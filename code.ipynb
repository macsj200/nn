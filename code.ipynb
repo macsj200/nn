{
 "cells": [
  {
   "cell_type": "code",
   "execution_count": 1,
   "metadata": {
    "collapsed": false
   },
   "outputs": [],
   "source": [
    "from mnist import MNIST\n",
    "import numpy as np\n",
    "import matplotlib.pyplot as plt\n",
    "import matplotlib.image as mpimg\n",
    "from scipy import exp, clip\n",
    "# Allowed on piazza\n",
    "from sklearn.utils import shuffle\n",
    "from numpy.random import randint\n",
    "%matplotlib inline"
   ]
  },
  {
   "cell_type": "code",
   "execution_count": 2,
   "metadata": {
    "collapsed": false
   },
   "outputs": [
    {
     "ename": "FileNotFoundError",
     "evalue": "[Errno 2] No such file or directory: './data/train-labels-idx1-ubyte'",
     "output_type": "error",
     "traceback": [
      "\u001b[0;31m---------------------------------------------------------------------------\u001b[0m",
      "\u001b[0;31mFileNotFoundError\u001b[0m                         Traceback (most recent call last)",
      "\u001b[0;32m<ipython-input-2-821db2491b9e>\u001b[0m in \u001b[0;36m<module>\u001b[0;34m()\u001b[0m\n\u001b[1;32m      8\u001b[0m     \u001b[0;32mreturn\u001b[0m \u001b[0mX_train\u001b[0m\u001b[0;34m,\u001b[0m \u001b[0mlabels_train\u001b[0m\u001b[0;34m,\u001b[0m \u001b[0mX_test\u001b[0m\u001b[0;34m\u001b[0m\u001b[0m\n\u001b[1;32m      9\u001b[0m \u001b[0;34m\u001b[0m\u001b[0m\n\u001b[0;32m---> 10\u001b[0;31m \u001b[0mX_train\u001b[0m\u001b[0;34m,\u001b[0m \u001b[0mlabels_train\u001b[0m\u001b[0;34m,\u001b[0m \u001b[0mX_test\u001b[0m \u001b[0;34m=\u001b[0m \u001b[0mload_dataset\u001b[0m\u001b[0;34m(\u001b[0m\u001b[0;34m)\u001b[0m\u001b[0;34m\u001b[0m\u001b[0m\n\u001b[0m",
      "\u001b[0;32m<ipython-input-2-821db2491b9e>\u001b[0m in \u001b[0;36mload_dataset\u001b[0;34m()\u001b[0m\n\u001b[1;32m      1\u001b[0m \u001b[0;32mdef\u001b[0m \u001b[0mload_dataset\u001b[0m\u001b[0;34m(\u001b[0m\u001b[0;34m)\u001b[0m\u001b[0;34m:\u001b[0m\u001b[0;34m\u001b[0m\u001b[0m\n\u001b[1;32m      2\u001b[0m     \u001b[0mmndata\u001b[0m \u001b[0;34m=\u001b[0m \u001b[0mMNIST\u001b[0m\u001b[0;34m(\u001b[0m\u001b[0;34m'./data/'\u001b[0m\u001b[0;34m)\u001b[0m\u001b[0;34m\u001b[0m\u001b[0m\n\u001b[0;32m----> 3\u001b[0;31m     \u001b[0mX_train\u001b[0m\u001b[0;34m,\u001b[0m \u001b[0mlabels_train\u001b[0m \u001b[0;34m=\u001b[0m \u001b[0mmap\u001b[0m\u001b[0;34m(\u001b[0m\u001b[0mnp\u001b[0m\u001b[0;34m.\u001b[0m\u001b[0marray\u001b[0m\u001b[0;34m,\u001b[0m \u001b[0mmndata\u001b[0m\u001b[0;34m.\u001b[0m\u001b[0mload_training\u001b[0m\u001b[0;34m(\u001b[0m\u001b[0;34m)\u001b[0m\u001b[0;34m)\u001b[0m\u001b[0;34m\u001b[0m\u001b[0m\n\u001b[0m\u001b[1;32m      4\u001b[0m     \u001b[0;31m# The test labels are meaningless,\u001b[0m\u001b[0;34m\u001b[0m\u001b[0;34m\u001b[0m\u001b[0m\n\u001b[1;32m      5\u001b[0m     \u001b[0;31m# since you're replacing the official MNIST test set with our own test set\u001b[0m\u001b[0;34m\u001b[0m\u001b[0;34m\u001b[0m\u001b[0m\n",
      "\u001b[0;32m/home/cc/cs189/fa16/class/cs189-ahx/.local/lib/python3.4/site-packages/mnist/loader.py\u001b[0m in \u001b[0;36mload_training\u001b[0;34m(self)\u001b[0m\n\u001b[1;32m     31\u001b[0m     \u001b[0;32mdef\u001b[0m \u001b[0mload_training\u001b[0m\u001b[0;34m(\u001b[0m\u001b[0mself\u001b[0m\u001b[0;34m)\u001b[0m\u001b[0;34m:\u001b[0m\u001b[0;34m\u001b[0m\u001b[0m\n\u001b[1;32m     32\u001b[0m         ims, labels = self.load(os.path.join(self.path, self.train_img_fname),\n\u001b[0;32m---> 33\u001b[0;31m                                 os.path.join(self.path, self.train_lbl_fname))\n\u001b[0m\u001b[1;32m     34\u001b[0m \u001b[0;34m\u001b[0m\u001b[0m\n\u001b[1;32m     35\u001b[0m         \u001b[0mself\u001b[0m\u001b[0;34m.\u001b[0m\u001b[0mtrain_images\u001b[0m \u001b[0;34m=\u001b[0m \u001b[0mims\u001b[0m\u001b[0;34m\u001b[0m\u001b[0m\n",
      "\u001b[0;32m/home/cc/cs189/fa16/class/cs189-ahx/.local/lib/python3.4/site-packages/mnist/loader.py\u001b[0m in \u001b[0;36mload\u001b[0;34m(cls, path_img, path_lbl)\u001b[0m\n\u001b[1;32m     40\u001b[0m     \u001b[0;34m@\u001b[0m\u001b[0mclassmethod\u001b[0m\u001b[0;34m\u001b[0m\u001b[0m\n\u001b[1;32m     41\u001b[0m     \u001b[0;32mdef\u001b[0m \u001b[0mload\u001b[0m\u001b[0;34m(\u001b[0m\u001b[0mcls\u001b[0m\u001b[0;34m,\u001b[0m \u001b[0mpath_img\u001b[0m\u001b[0;34m,\u001b[0m \u001b[0mpath_lbl\u001b[0m\u001b[0;34m)\u001b[0m\u001b[0;34m:\u001b[0m\u001b[0;34m\u001b[0m\u001b[0m\n\u001b[0;32m---> 42\u001b[0;31m         \u001b[0;32mwith\u001b[0m \u001b[0mopen\u001b[0m\u001b[0;34m(\u001b[0m\u001b[0mpath_lbl\u001b[0m\u001b[0;34m,\u001b[0m \u001b[0;34m'rb'\u001b[0m\u001b[0;34m)\u001b[0m \u001b[0;32mas\u001b[0m \u001b[0mfile\u001b[0m\u001b[0;34m:\u001b[0m\u001b[0;34m\u001b[0m\u001b[0m\n\u001b[0m\u001b[1;32m     43\u001b[0m             \u001b[0mmagic\u001b[0m\u001b[0;34m,\u001b[0m \u001b[0msize\u001b[0m \u001b[0;34m=\u001b[0m \u001b[0mstruct\u001b[0m\u001b[0;34m.\u001b[0m\u001b[0munpack\u001b[0m\u001b[0;34m(\u001b[0m\u001b[0;34m\">II\"\u001b[0m\u001b[0;34m,\u001b[0m \u001b[0mfile\u001b[0m\u001b[0;34m.\u001b[0m\u001b[0mread\u001b[0m\u001b[0;34m(\u001b[0m\u001b[0;36m8\u001b[0m\u001b[0;34m)\u001b[0m\u001b[0;34m)\u001b[0m\u001b[0;34m\u001b[0m\u001b[0m\n\u001b[1;32m     44\u001b[0m             \u001b[0;32mif\u001b[0m \u001b[0mmagic\u001b[0m \u001b[0;34m!=\u001b[0m \u001b[0;36m2049\u001b[0m\u001b[0;34m:\u001b[0m\u001b[0;34m\u001b[0m\u001b[0m\n",
      "\u001b[0;31mFileNotFoundError\u001b[0m: [Errno 2] No such file or directory: './data/train-labels-idx1-ubyte'"
     ]
    }
   ],
   "source": [
    "def load_dataset():\n",
    "    mndata = MNIST('./data/')\n",
    "    X_train, labels_train = map(np.array, mndata.load_training())\n",
    "    # The test labels are meaningless,\n",
    "    # since you're replacing the official MNIST test set with our own test set\n",
    "    X_test, _ = map(np.array, mndata.load_testing())\n",
    "    # Remember to center and normalize the data...\n",
    "    return X_train, labels_train, X_test\n",
    "\n",
    "X_train, labels_train, X_test = load_dataset()"
   ]
  },
  {
   "cell_type": "code",
   "execution_count": null,
   "metadata": {
    "collapsed": false
   },
   "outputs": [],
   "source": [
    "plt.imshow(X_train[0].reshape((28,28)), cmap='Greys_r')"
   ]
  },
  {
   "cell_type": "code",
   "execution_count": null,
   "metadata": {
    "collapsed": false
   },
   "outputs": [],
   "source": [
    "def safe_exp(x):\n",
    "    \"\"\"to avoid inf and NaN values\"\"\"\n",
    "    \"\"\"https://github.com/miha-stopar/nnets/blob/master/neuron/tools.py\"\"\"\n",
    "    return exp(clip(x, -500, 500))\n",
    "def layerOneActivations(z):\n",
    "    return np.maximum(z, np.zeros_like(z))\n",
    "def layerOneDeriv(z):\n",
    "    return np.where(z > 0, 1,0)\n",
    "def layerTwoActivations(x): \n",
    "    e_x = safe_exp(x - np.max(x))\n",
    "    return e_x / e_x.sum(axis=0)\n",
    "def layerTwoDeriv(layerTwoActivation, y):\n",
    "    return layerTwoActivation - y\n",
    "def one_hot(labels_train):     \n",
    "    '''Convert categorical labels 0,1,2,....9 to standard basis vectors in R^{10} '''     \n",
    "    return np.eye(10)[labels_train]\n",
    "def computeCost(inputDataset, labels):\n",
    "    inputDataset = np.hstack((inputDataset, np.ones((inputDataset.shape[0],1))))\n",
    "    \n",
    "    hiddenLayerWeightedInput = weights[0].dot(inputVector)\n",
    "    hiddenLayerActivation = np.append(g[0](hiddenLayerWeightedInput), [1])\n",
    "\n",
    "    outputLayerWeightedInput = weights[1].dot(hiddenLayerActivation)\n",
    "    outputLayerActivation = g[1](outputLayerWeightedInput)\n",
    "    return -(outputLayerActivation * np.log(labels + 1e-200)).sum()"
   ]
  },
  {
   "cell_type": "code",
   "execution_count": null,
   "metadata": {
    "collapsed": false
   },
   "outputs": [],
   "source": [
    "n_in = 784\n",
    "n_hid = 200\n",
    "n_out = 10\n",
    "n_layers = 3\n",
    "\n",
    "# Param for layer k exists in array position k-1\n",
    "# i.e. [V,W]\n",
    "g = [layerOneActivations, layerTwoActivations]\n",
    "g_prime = [layerOneDeriv, layerTwoDeriv]\n",
    "weights = [np.zeros((n_hid, n_in+1)), np.zeros((n_out, n_hid+1))]\n",
    "\n",
    "compute_cost_interval = 10\n",
    "train_size = int(.8*len(labels_train))\n",
    "validate_size = int(.2*len(labels_train))\n",
    "labels, inputData = shuffle(one_hot(labels_train), X_train)\n",
    "num_iters = 3000\n",
    "\n",
    "trainLabels, trainData = labels[train_size:], inputData[train_size:]\n",
    "validateLabels, validateData = labels[:validate_size], inputData[:validate_size]\n",
    "\n",
    "# Save costs here\n",
    "trainingCost, validationCost = np.array([]), np.array([])\n",
    "\n",
    "# Hyperparameters\n",
    "initialLearningRate = 5e-2\n",
    "decayFactor = 0.001\n",
    "for i in range(num_iters):\n",
    "    learningRate = initialLearningRate*np.exp(-decayFactor * i)\n",
    "    \n",
    "    # Select a random point\n",
    "    datapointIndex = randint(0, len(trainLabels))\n",
    "    inputVector = np.append(trainData[datapointIndex], [1])\n",
    "    labelVector = trainLabels[datapointIndex]\n",
    "\n",
    "    # Feed forward\n",
    "    hiddenLayerWeightedInput = weights[0].dot(inputVector)\n",
    "    hiddenLayerActivation = np.append(g[0](hiddenLayerWeightedInput), [1])\n",
    "\n",
    "    outputLayerWeightedInput = weights[1].dot(hiddenLayerActivation)\n",
    "    outputLayerActivation = g[1](outputLayerWeightedInput)\n",
    "\n",
    "    # Compute cost (don't do every time)\n",
    "    if i % compute_cost_interval == 0:\n",
    "        trainingCost = np.append(trainingCost, computeCost(trainData, trainLabels))\n",
    "        validationCost = np.append(validationCost, computeCost(validateData, validateLabels))\n",
    "\n",
    "    # Update outer weights\n",
    "    # W\n",
    "    deltaW = outputLayerActivation - labelVector\n",
    "    dW = np.outer(deltaW,hiddenLayerActivation)\n",
    "\n",
    "    # V\n",
    "    deltaV = g_prime[0](hiddenLayerWeightedInput)\n",
    "    dV = deltaV * weights[1].T.dot(deltaW)[:-1]\n",
    "    \n",
    "    # Update weights\n",
    "    # W\n",
    "    weights[1] -= learningRate*dW\n",
    "    # V\n",
    "    weights[0] -= learningRate*dV[None].T\n",
    "# Normalize costs for comparison\n",
    "# validationCost /= len(validateLabels)\n",
    "# trainingCost /= len(trainLabels)"
   ]
  },
  {
   "cell_type": "code",
   "execution_count": null,
   "metadata": {
    "collapsed": false
   },
   "outputs": [],
   "source": [
    "# Plot the cost over the iterations\n",
    "plt.plot(validationCost, label=\"validation cost\")\n",
    "plt.plot(trainingCost, label=\"training cost\")\n",
    "plt.xlabel('iteration x10')\n",
    "plt.ylabel('$J$', fontsize=15)\n",
    "plt.title('Normalized cost over iteration')\n",
    "plt.grid()\n",
    "plt.legend()\n",
    "plt.show()"
   ]
  },
  {
   "cell_type": "code",
   "execution_count": null,
   "metadata": {
    "collapsed": true
   },
   "outputs": [],
   "source": []
  }
 ],
 "metadata": {
  "kernelspec": {
   "display_name": "Python 3",
   "language": "python",
   "name": "python3"
  },
  "language_info": {
   "codemirror_mode": {
    "name": "ipython",
    "version": 3
   },
   "file_extension": ".py",
   "mimetype": "text/x-python",
   "name": "python",
   "nbconvert_exporter": "python",
   "pygments_lexer": "ipython3",
   "version": "3.4.3"
  }
 },
 "nbformat": 4,
 "nbformat_minor": 1
}
