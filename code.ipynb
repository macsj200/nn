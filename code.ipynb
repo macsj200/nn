{
 "cells": [
  {
   "cell_type": "code",
   "execution_count": 12,
   "metadata": {
    "collapsed": false
   },
   "outputs": [],
   "source": [
    "from mnist import MNIST\n",
    "import numpy as np\n",
    "import matplotlib.pyplot as plt\n",
    "import matplotlib.image as mpimg\n",
    "from scipy import exp, clip\n",
    "# Allowed on piazza\n",
    "from sklearn.utils import shuffle\n",
    "from numpy.random import randint\n",
    "%matplotlib inline"
   ]
  },
  {
   "cell_type": "code",
   "execution_count": 4,
   "metadata": {
    "collapsed": false
   },
   "outputs": [],
   "source": [
    "def load_dataset():\n",
    "    mndata = MNIST('./data/')\n",
    "    X_train, labels_train = map(np.array, mndata.load_training())\n",
    "    # The test labels are meaningless,\n",
    "    # since you're replacing the official MNIST test set with our own test set\n",
    "    X_test, _ = map(np.array, mndata.load_testing())\n",
    "    # Remember to center and normalize the data...\n",
    "    return X_train, labels_train, X_test\n",
    "\n",
    "X_train, labels_train, X_test = load_dataset()"
   ]
  },
  {
   "cell_type": "code",
   "execution_count": 5,
   "metadata": {
    "collapsed": false
   },
   "outputs": [
    {
     "data": {
      "text/plain": [
       "<matplotlib.image.AxesImage at 0x13efdf358>"
      ]
     },
     "execution_count": 5,
     "metadata": {},
     "output_type": "execute_result"
    },
    {
     "data": {
      "image/png": "[encoded data removed]",
      "text/plain": [
       "<matplotlib.figure.Figure at 0x110c21320>"
      ]
     },
     "metadata": {},
     "output_type": "display_data"
    }
   ],
   "source": [
    "plt.imshow(X_train[0].reshape((28,28)), cmap='Greys_r')"
   ]
  },
  {
   "cell_type": "code",
   "execution_count": 157,
   "metadata": {
    "collapsed": false
   },
   "outputs": [
    {
     "name": "stdout",
     "output_type": "stream",
     "text": [
      "60000\n"
     ]
    }
   ],
   "source": [
    "def safe_exp(x):\n",
    "    \"\"\"to avoid inf and NaN values\"\"\"\n",
    "    \"\"\"https://github.com/miha-stopar/nnets/blob/master/neuron/tools.py\"\"\"\n",
    "    return exp(clip(x, -500, 500))\n",
    "def layerOneActivations(z):\n",
    "    return np.maximum(z, np.zeros_like(z))\n",
    "def layerOneDeriv(z):\n",
    "    return np.where(z > 0, 1,0)\n",
    "def layerTwoActivations(x): \n",
    "    e_x = safe_exp(x - np.max(x))\n",
    "    return e_x / e_x.sum(axis=0)\n",
    "def layerTwoDeriv(layerTwoActivation, y):\n",
    "    return layerTwoActivation - y\n",
    "def one_hot(labels_train):     \n",
    "    '''Convert categorical labels 0,1,2,....9 to standard basis vectors in R^{10} '''     \n",
    "    return np.eye(10)[labels_train]\n",
    "def computeCost(inputDataset, labels):\n",
    "    inputDataset = np.hstack((inputDataset, np.ones((inputDataset.shape[0],1))))\n",
    "    \n",
    "    hiddenLayerWeightedInput = weights[0].dot(inputVector)\n",
    "    hiddenLayerActivation = np.append(g[0](hiddenLayerWeightedInput), [1])\n",
    "\n",
    "    outputLayerWeightedInput = weights[1].dot(hiddenLayerActivation)\n",
    "    outputLayerActivation = g[1](outputLayerWeightedInput)\n",
    "    return -(outputLayerActivation * np.log(labels + 1e-200)).sum()\n",
    "# Param for layer k exists in array position k-1\n",
    "# i.e. [V,W]\n",
    "g = [layerOneActivations, layerTwoActivations]\n",
    "g_prime = [layerOneDeriv, layerTwoDeriv]\n",
    "weights = [np.zeros((n_hid, n_in+1)), np.zeros((n_out, n_hid+1))]"
   ]
  },
  {
   "cell_type": "code",
   "execution_count": null,
   "metadata": {
    "collapsed": false
   },
   "outputs": [],
   "source": [
    "n_in = 784\n",
    "n_hid = 200\n",
    "n_out = 10\n",
    "n_layers = 3\n",
    "compute_cost_interval = 10\n",
    "train_size = int(.8*len(labels_train))\n",
    "validate_size = int(.2*len(labels_train))\n",
    "labels, inputData = shuffle(one_hot(labels_train), X_train)\n",
    "num_iters = 3000\n",
    "\n",
    "trainLabels, trainData = labels[train_size:], inputData[train_size:]\n",
    "validateLabels, validateData = labels[:validate_size], inputData[:validate_size]\n",
    "\n",
    "# Save costs here\n",
    "trainingCost, validationCost = np.array([]), np.array([])\n",
    "\n",
    "# Hyperparameters\n",
    "initialLearningRate = 5e-2\n",
    "decayFactor = 0.001\n",
    "for i in range(num_iters):\n",
    "    learningRate = initialLearningRate*np.exp(-decayFactor * i)\n",
    "    \n",
    "    # Select a random point\n",
    "    datapointIndex = randint(0, len(trainLabels))\n",
    "    inputVector = np.append(trainData[datapointIndex], [1])\n",
    "    labelVector = trainLabels[datapointIndex]\n",
    "\n",
    "    # Feed forward\n",
    "    hiddenLayerWeightedInput = weights[0].dot(inputVector)\n",
    "    hiddenLayerActivation = np.append(g[0](hiddenLayerWeightedInput), [1])\n",
    "\n",
    "    outputLayerWeightedInput = weights[1].dot(hiddenLayerActivation)\n",
    "    outputLayerActivation = g[1](outputLayerWeightedInput)\n",
    "\n",
    "    # Compute cost (don't do every time)\n",
    "    if i % compute_cost_interval == 0:\n",
    "        trainingCost = np.append(trainingCost, computeCost(trainData, trainLabels))\n",
    "        validationCost = np.append(validationCost, computeCost(validateData, validateLabels))\n",
    "\n",
    "    # Update outer weights\n",
    "    # W\n",
    "    deltaW = outputLayerActivation - labelVector\n",
    "    dW = np.outer(deltaW,hiddenLayerActivation)\n",
    "\n",
    "    # V\n",
    "    deltaV = g_prime[0](hiddenLayerWeightedInput)\n",
    "    dV = deltaV * weights[1].T.dot(deltaW)[:-1]\n",
    "    \n",
    "    # Update weights\n",
    "    # W\n",
    "    weights[1] -= learningRate*dW\n",
    "    # V\n",
    "    weights[0] -= learningRate*dV[None].T\n",
    "# Normalize costs for comparison\n",
    "# validationCost /= len(validateLabels)\n",
    "# trainingCost /= len(trainLabels)"
   ]
  },
  {
   "cell_type": "code",
   "execution_count": null,
   "metadata": {
    "collapsed": false
   },
   "outputs": [],
   "source": [
    "# Plot the cost over the iterations\n",
    "plt.plot(validationCost, label=\"validation cost\")\n",
    "plt.plot(trainingCost, label=\"training cost\")\n",
    "plt.xlabel('iteration x10')\n",
    "plt.ylabel('$J$', fontsize=15)\n",
    "plt.title('Normalized cost over iteration')\n",
    "plt.grid()\n",
    "plt.legend()\n",
    "plt.show()"
   ]
  },
  {
   "cell_type": "code",
   "execution_count": null,
   "metadata": {
    "collapsed": true
   },
   "outputs": [],
   "source": []
  }
 ],
 "metadata": {
  "kernelspec": {
   "display_name": "Python 3",
   "language": "python",
   "name": "python3"
  },
  "language_info": {
   "codemirror_mode": {
    "name": "ipython",
    "version": 3
   },
   "file_extension": ".py",
   "mimetype": "text/x-python",
   "name": "python",
   "nbconvert_exporter": "python",
   "pygments_lexer": "ipython3",
   "version": "3.4.3"
  }
 },
 "nbformat": 4,
 "nbformat_minor": 1
}
